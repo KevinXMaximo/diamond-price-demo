{
 "cells": [
  {
   "cell_type": "markdown",
   "id": "9f42f468",
   "metadata": {},
   "source": [
    "Panda Data Access Basics"
   ]
  },
  {
   "cell_type": "code",
   "execution_count": null,
   "id": "ac5a10a1",
   "metadata": {},
   "outputs": [],
   "source": [
    "import pandas as pd"
   ]
  },
  {
   "cell_type": "code",
   "execution_count": null,
   "id": "078f2ff6",
   "metadata": {},
   "outputs": [],
   "source": [
    "diamonds = pd.read_csv(\"../data/diamonds.csv\")\n",
    "diamonds.head()"
   ]
  },
  {
   "cell_type": "code",
   "execution_count": null,
   "id": "380968c0",
   "metadata": {},
   "outputs": [],
   "source": [
    "diamonds.info()"
   ]
  },
  {
   "cell_type": "code",
   "execution_count": null,
   "id": "06d9f725",
   "metadata": {},
   "outputs": [],
   "source": [
    "diamonds.describe()"
   ]
  },
  {
   "cell_type": "code",
   "execution_count": null,
   "id": "0527337f",
   "metadata": {},
   "outputs": [],
   "source": [
    "diamonds.loc[0, \"cut\"]      # single cell"
   ]
  },
  {
   "cell_type": "code",
   "execution_count": null,
   "id": "f89ea18a",
   "metadata": {},
   "outputs": [],
   "source": [
    "diamonds.loc[2:5, \"cut\"]    # rows 0–3, \"cut\" column"
   ]
  },
  {
   "cell_type": "code",
   "execution_count": null,
   "id": "f39c73fb",
   "metadata": {},
   "outputs": [],
   "source": [
    "diamonds.loc[:, [\"cut\", \"color\"]]  # all rows, two columns"
   ]
  },
  {
   "cell_type": "markdown",
   "id": "9bc2c27f",
   "metadata": {},
   "source": [
    "Data Cleanup Basics"
   ]
  },
  {
   "cell_type": "code",
   "execution_count": null,
   "id": "0f2aa03a",
   "metadata": {},
   "outputs": [],
   "source": [
    "diamonds.isnull().sum()"
   ]
  },
  {
   "cell_type": "code",
   "execution_count": null,
   "id": "37c08bc4",
   "metadata": {},
   "outputs": [],
   "source": [
    "diamonds[\"depth\"] = diamonds[\"depth\"].fillna(diamonds[\"depth\"].mean())"
   ]
  },
  {
   "cell_type": "code",
   "execution_count": null,
   "id": "6284929c",
   "metadata": {},
   "outputs": [],
   "source": [
    "diamonds = diamonds.dropna()\n",
    "diamonds = diamonds.reset_index(drop=True)"
   ]
  },
  {
   "cell_type": "markdown",
   "id": "63df6d84",
   "metadata": {},
   "source": [
    "Machine Learning Basics"
   ]
  },
  {
   "cell_type": "code",
   "execution_count": null,
   "id": "c57b3e3f",
   "metadata": {},
   "outputs": [],
   "source": [
    "features = pd.get_dummies(diamonds.drop(\"price\", axis=1))\n",
    "target = diamonds[\"price\"]"
   ]
  },
  {
   "cell_type": "code",
   "execution_count": null,
   "id": "cd9b6ca1",
   "metadata": {},
   "outputs": [],
   "source": [
    "from sklearn.model_selection import train_test_split\n",
    "\n",
    "X_train, X_test, y_train, y_test = train_test_split(features, target, test_size=0.2, random_state=42)"
   ]
  },
  {
   "cell_type": "markdown",
   "id": "01ba6286",
   "metadata": {},
   "source": [
    "Linear Regression"
   ]
  },
  {
   "cell_type": "code",
   "execution_count": null,
   "id": "14d6b284",
   "metadata": {},
   "outputs": [],
   "source": [
    "from sklearn.linear_model import LinearRegression\n",
    "\n",
    "model = LinearRegression()\n",
    "model.fit(X_train, y_train)"
   ]
  },
  {
   "cell_type": "code",
   "execution_count": null,
   "id": "476ece93",
   "metadata": {},
   "outputs": [],
   "source": [
    "from sklearn.metrics import mean_squared_error\n",
    "import math\n",
    "\n",
    "predictions = model.predict(X_test)\n",
    "mse = mean_squared_error(y_test, predictions)\n",
    "rmse = math.sqrt(mse)\n",
    "\n",
    "print(f\"Linear Regression RMSE: ${rmse:.2f}\")"
   ]
  },
  {
   "cell_type": "markdown",
   "id": "4ea5bbd3",
   "metadata": {},
   "source": [
    "Random Forest"
   ]
  },
  {
   "cell_type": "code",
   "execution_count": null,
   "id": "a620ae97",
   "metadata": {},
   "outputs": [],
   "source": [
    "from sklearn.ensemble import RandomForestRegressor\n",
    "from sklearn.metrics import mean_squared_error\n",
    "import math\n",
    "\n",
    "# Train the model\n",
    "rf = RandomForestRegressor(n_estimators=100, random_state=42)\n",
    "rf.fit(X_train, y_train)\n",
    "\n",
    "# Predict and evaluate\n",
    "rf_preds = rf.predict(X_test)\n",
    "rmse = math.sqrt(mean_squared_error(y_test, rf_preds))\n",
    "\n",
    "print(f\"Random Forest RMSE: ${rmse:.2f}\")"
   ]
  }
 ],
 "metadata": {
  "kernelspec": {
   "display_name": "Python 3",
   "language": "python",
   "name": "python3"
  },
  "language_info": {
   "codemirror_mode": {
    "name": "ipython",
    "version": 3
   },
   "file_extension": ".py",
   "mimetype": "text/x-python",
   "name": "python",
   "nbconvert_exporter": "python",
   "pygments_lexer": "ipython3",
   "version": "3.12.4"
  }
 },
 "nbformat": 4,
 "nbformat_minor": 5
}
